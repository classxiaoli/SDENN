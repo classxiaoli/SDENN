{
 "cells": [
  {
   "cell_type": "code",
   "execution_count": 420,
   "metadata": {},
   "outputs": [],
   "source": [
    "# Python imports\n",
    "import numpy as np # Matrix and vector computation package\n",
    "import matplotlib.pyplot as plt  # Plotting library\n",
    "# Allow matplotlib to plot inside this notebook\n",
    "%matplotlib inline\n",
    "# Set the seed of the numpy random number generator so that the tutorial is reproducable\n",
    "np.random.seed(seed=1)\n",
    "from sklearn import datasets, cross_validation, metrics # data and evaluation utils\n",
    "from matplotlib.colors import colorConverter, ListedColormap # some plotting functions\n",
    "import itertools\n",
    "import collections"
   ]
  },
  {
   "cell_type": "code",
   "execution_count": 421,
   "metadata": {},
   "outputs": [],
   "source": [
    "digits = datasets.load_digits()\n",
    "\n",
    "T = np.zeros((digits.target.shape[0],10))\n",
    "T[np.arange(len(T)), digits.target] += 1\n",
    "\n",
    "X_train, X_test, T_train, T_test = cross_validation.train_test_split(\n",
    "    digits.data, T, test_size=0.4)\n",
    "X_validation, X_test, T_validation, T_test = cross_validation.train_test_split(\n",
    "    X_test, T_test, test_size=0.5)\n",
    "# print(digits.target.shape[0])"
   ]
  },
  {
   "cell_type": "code",
   "execution_count": 422,
   "metadata": {},
   "outputs": [
    {
     "data": {
      "image/png": "[encoded data removed]",
      "text/plain": [
       "<Figure size 1000x100 with 10 Axes>"
      ]
     },
     "metadata": {},
     "output_type": "display_data"
    }
   ],
   "source": [
    "fig = plt.figure(figsize=(10, 1), dpi=100)\n",
    "for i in range(10):\n",
    "    ax = fig.add_subplot(1,10,i+1)\n",
    "    ax.matshow(digits.images[i], cmap='binary') \n",
    "    ax.axis('off')\n",
    "plt.show()"
   ]
  },
  {
   "cell_type": "code",
   "execution_count": 423,
   "metadata": {},
   "outputs": [],
   "source": [
    "#给所有样本头部插入1\n",
    "def array_add_data2(activ):\n",
    "    \"\"\"\n",
    "        参数activ : 样本\n",
    "        作用 : 在数组头部插入数值1\n",
    "    \"\"\"\n",
    "    r = []\n",
    "    ret1 = np.append([1],activ)\n",
    "    r.append(ret1)\n",
    "    ret2 = np.array(r)\n",
    "    return ret2"
   ]
  },
  {
   "cell_type": "code",
   "execution_count": 424,
   "metadata": {},
   "outputs": [
    {
     "name": "stdout",
     "output_type": "stream",
     "text": [
      "(9L,)\n",
      "(1L, 9L)\n",
      "[[1 2 3 4 5 6 7 8 9]]\n",
      "[[2.12078996e-04 5.76490482e-04 1.56706360e-03 4.25972051e-03\n",
      "  1.15791209e-02 3.14753138e-02 8.55587737e-02 2.32572860e-01\n",
      "  6.32198578e-01]]\n",
      "1.0\n"
     ]
    }
   ],
   "source": [
    "# Define the non-linear functions used\n",
    "def logistic(z): \n",
    "    return 1 / (1 + np.exp(-z))\n",
    "\n",
    "# def logistic_deriv(y):  # Derivative of logistic function\n",
    "#     return np.multiply(y, (1 - y))\n",
    "    \n",
    "def softmax(z): \n",
    "    return np.exp(z) / np.sum(np.exp(z), axis=1, keepdims=True)\n",
    "\n",
    "d = np.array([1,2,3,4,5,6,7,8,9])\n",
    "d2 = np.expand_dims(d, axis=0)\n",
    "print(d.shape)\n",
    "print(d2.shape)\n",
    "# print(softmax(d))\n",
    "print(d2)\n",
    "print(softmax(d2))\n",
    "print(softmax(d2).sum())"
   ]
  },
  {
   "cell_type": "code",
   "execution_count": 425,
   "metadata": {},
   "outputs": [],
   "source": [
    "# Define the layers used in this model\n",
    "class Layer(object):\n",
    "    \n",
    "#     def get_params_iter(self):\n",
    "#         return []\n",
    "    \n",
    "#     def get_params_grad(self, X, output_grad):\n",
    "#         return [],[]\n",
    "    \n",
    "    # def add高斯noise *****\n",
    "#     def add_gaosi_noise(self):\n",
    "#         pass\n",
    "    \n",
    "    # def remove高斯noise *****\n",
    "#     def remove_gaosi_noise(self):\n",
    "#         pass\n",
    "    \n",
    "    def get_output(self, X):\n",
    "        pass\n",
    "    \n",
    "#     def get_input_grad(self, Y, output_grad=None, T=None):\n",
    "#         pass"
   ]
  },
  {
   "cell_type": "code",
   "execution_count": 426,
   "metadata": {},
   "outputs": [],
   "source": [
    "class LinearLayer(Layer):\n",
    "    \n",
    "    def __init__(self, n_in, n_out):\n",
    "        self.W = np.random.randn(n_in, n_out) * 0.1\n",
    "        self.b = np.zeros(n_out)\n",
    "        # 存下本层的结点数*****\n",
    "#         self.nodenum = n_out\n",
    "#         self.gaosi_noise = 0\n",
    "#         self.curbs = 0\n",
    "        \n",
    "    # def add高斯noise *****\n",
    "#     def add_gaosi_noise(self):\n",
    "#         #self.gaosi_noise = np.random.randn(self.curbs, self.nodenum) * 1\n",
    "#         self.gaosi_noise = 0\n",
    "        \n",
    "    # def remove高斯noise *****\n",
    "#     def remove_gaosi_noise(self):\n",
    "#         self.gaosi_noise = 0\n",
    "        \n",
    "#     def get_params_iter(self):\n",
    "#         return itertools.chain(np.nditer(self.W, op_flags=['readwrite']),\n",
    "#                                np.nditer(self.b, op_flags=['readwrite']))\n",
    "    \n",
    "    def get_output(self, X):\n",
    "        return X.dot(self.W) + self.gaosi_noise + self.b\n",
    "        \n",
    "#     def get_params_grad(self, X, output_grad):\n",
    "#         JW = X.T.dot(output_grad)\n",
    "#         Jb = np.sum(output_grad, axis=0)\n",
    "#         return [g for g in itertools.chain(np.nditer(JW), np.nditer(Jb))],JW\n",
    "    \n",
    "#     def get_input_grad(self, Y, output_grad):\n",
    "#         return output_grad.dot(self.W.T)"
   ]
  },
  {
   "cell_type": "code",
   "execution_count": 427,
   "metadata": {},
   "outputs": [],
   "source": [
    "# d = np.array([[1,1,1,1,1],[2,2,2,2,2],[3,3,3,3,3],[4,4,4,4,4],[5,5,5,5,5]])\n",
    "# print(d)\n",
    "# d[0:1,:] = 0\n",
    "# print(\"-------------\")\n",
    "# print(d)\n",
    "# # print(\"----------------------------------------\")\n",
    "# # w = np.random.randn(20, 10) * 0.1\n",
    "# # print(w)"
   ]
  },
  {
   "cell_type": "code",
   "execution_count": 428,
   "metadata": {},
   "outputs": [],
   "source": [
    "class LogisticLayer(Layer):\n",
    "    \n",
    "    def get_output(self, X):\n",
    "        return logistic(X)\n",
    "    \n",
    "#     def get_input_grad(self, Y, output_grad):\n",
    "#         \"\"\"Return the gradient at the inputs of this layer.\"\"\"\n",
    "#         return np.multiply(logistic_deriv(Y), output_grad)"
   ]
  },
  {
   "cell_type": "code",
   "execution_count": 429,
   "metadata": {},
   "outputs": [],
   "source": [
    "class SoftmaxOutputLayer(Layer):\n",
    "    \n",
    "    def get_output(self, X):\n",
    "        return softmax(X)\n",
    "    \n",
    "#     def get_input_grad(self, Y, T):\n",
    "#         re = (Y - T) / 1                                           #Y.shape[0]\n",
    "# #         print(\"--------- input_grad ----------\")\n",
    "# #         print(\"T.shape : \" + str(T.shape))\n",
    "# #         print(\"Y.shape : \" + str(Y.shape))\n",
    "# #         print(\"Y.shape[0] : \" + str(Y.shape[0]))\n",
    "#         return re\n",
    "    \n",
    "    def get_cost(self, Y, T):\n",
    "        multi = np.multiply(T, np.log(Y))\n",
    "        \n",
    "#         print(\"--------- cost ----------\")\n",
    "#         print(\"T.shape : \" + str(T.shape))\n",
    "#         print(\"Y.shape : \" + str(Y.shape))\n",
    "#         print(\"Y.shape[0] : \" + str(Y.shape[0]))\n",
    "        \n",
    "        return - multi.sum() / Y.shape[0] #Y.shape[0]                                                             大更改  单样本时应该除以1"
   ]
  },
  {
   "cell_type": "code",
   "execution_count": 430,
   "metadata": {},
   "outputs": [
    {
     "name": "stdout",
     "output_type": "stream",
     "text": [
      "10\n",
      "64\n"
     ]
    }
   ],
   "source": [
    "# 定义模型\n",
    "hidden_neurons_1 = 20  \n",
    "hidden_neurons_2 = 20 \n",
    "# Create the model\n",
    "layers = [] \n",
    "layers.append(LinearLayer(X_train.shape[1], hidden_neurons_1)) # (64L,20L)\n",
    "layers.append(LogisticLayer())\n",
    "# Add second hidden layer\n",
    "# layers.append(LinearLayer(hidden_neurons_1, hidden_neurons_2))\n",
    "# layers.append(LogisticLayer())\n",
    "layers.append(LinearLayer(hidden_neurons_2, T_train.shape[1])) #(20L,10L)\n",
    "layers.append(SoftmaxOutputLayer())\n",
    "\n",
    "print(T_train.shape[1])\n",
    "print(X_train.shape[1])"
   ]
  },
  {
   "cell_type": "code",
   "execution_count": 431,
   "metadata": {},
   "outputs": [],
   "source": [
    "def forward_step(input_samples, layers,bs,noise1):\n",
    "    activations = [input_samples] \n",
    "    X = input_samples\n",
    "    for index in range(len(layers)): \n",
    "        layer = layers[index]\n",
    "        #layer.curbs = bs\n",
    "        #layer.add_gaosi_noise()\n",
    "        layer.gaosi_noise = noise1[index]\n",
    "        Y = layer.get_output(X)  \n",
    "        activations.append(Y)  \n",
    "        X = activations[-1]  \n",
    "    return activations  "
   ]
  },
  {
   "cell_type": "code",
   "execution_count": 432,
   "metadata": {},
   "outputs": [],
   "source": [
    "# # 前向传播 : add 高斯nosie *****\n",
    "# def forward_step2(input_samples, layers):\n",
    "#     activations = [input_samples] # List of layer activations\n",
    "#     X = input_samples\n",
    "#     for layer in layers:\n",
    "#         # *****remove\n",
    "#         layer.remove_gaosi_noise()\n",
    "#         Y = layer.get_output(X) \n",
    "#         activations.append(Y) \n",
    "#         X = activations[-1]  \n",
    "#     return activations  "
   ]
  },
  {
   "cell_type": "code",
   "execution_count": 433,
   "metadata": {},
   "outputs": [],
   "source": [
    "# # Define the backward propagation step as a method\n",
    "# def backward_step(activations, targets, layers):\n",
    "#     param_grads = collections.deque() \n",
    "#     jws = collections.deque() #***** get每一层的JW\n",
    "#     output_grad = None \n",
    "#     for layer in reversed(layers):   \n",
    "#         Y = activations.pop() \n",
    "#         if output_grad is None:\n",
    "#             input_grad = layer.get_input_grad(Y, targets)\n",
    "#         else: \n",
    "#             input_grad = layer.get_input_grad(Y, output_grad) # 输出a + 输出导数 -> 得输入导数  linear层时Y没有用到\n",
    "#         X = activations[-1]\n",
    "#         grads,JW = layer.get_params_grad(X, output_grad)      # 输入a + 输出导数 -> 此层的grad\n",
    "#         param_grads.appendleft(grads)\n",
    "#         output_grad = input_grad\n",
    "#         jws.appendleft(JW) #get本层的JW\n",
    "#     return list(param_grads),jws "
   ]
  },
  {
   "cell_type": "code",
   "execution_count": 434,
   "metadata": {},
   "outputs": [],
   "source": [
    "# # Perform gradient checking\n",
    "# nb_samples_gradientcheck = 10 # Test the gradients on a subset of the data\n",
    "# X_temp = X_train[0:nb_samples_gradientcheck,:]\n",
    "# T_temp = T_train[0:nb_samples_gradientcheck,:]\n",
    "# # Get the parameter gradients with backpropagation\n",
    "# activations = forward_step(X_temp, layers)\n",
    "# param_grads = backward_step(activations, T_temp, layers)\n",
    "\n",
    "# # Set the small change to compute the numerical gradient\n",
    "# eps = 0.0001\n",
    "# # Compute the numerical gradients of the parameters in all layers.\n",
    "# for idx in range(len(layers)):\n",
    "#     layer = layers[idx]\n",
    "#     layer_backprop_grads = param_grads[idx]\n",
    "#     # Compute the numerical gradient for each parameter in the layer\n",
    "#     for p_idx, param in enumerate(layer.get_params_iter()):\n",
    "#         grad_backprop = layer_backprop_grads[p_idx]\n",
    "#         # + eps\n",
    "#         param += eps\n",
    "#         plus_cost = layers[-1].get_cost(forward_step(X_temp, layers)[-1], T_temp)\n",
    "#         # - eps\n",
    "#         param -= 2 * eps\n",
    "#         min_cost = layers[-1].get_cost(forward_step(X_temp, layers)[-1], T_temp)\n",
    "#         # reset param value\n",
    "#         param += eps\n",
    "#         # calculate numerical gradient\n",
    "#         grad_num = (plus_cost - min_cost)/(2*eps)\n",
    "#         # Raise error if the numerical grade is not close to the backprop gradient\n",
    "#         if not np.isclose(grad_num, grad_backprop):\n",
    "#             raise ValueError('Numerical gradient of {:.6f} is not close to the backpropagation gradient of {:.6f}!'.format(float(grad_num), float(grad_backprop)))\n",
    "# print('No gradient errors found')"
   ]
  },
  {
   "cell_type": "code",
   "execution_count": 435,
   "metadata": {},
   "outputs": [],
   "source": [
    "# # Create the minibatches\n",
    "# batch_size = 25  # Approximately 25 samples per batch\n",
    "# nb_of_batches = X_train.shape[0] / batch_size  # Number of batches\n",
    "# # Create batches (X,Y) from the training set\n",
    "# XT_batches = zip(\n",
    "#     np.array_split(X_train, nb_of_batches, axis=0),  # X samples\n",
    "#     np.array_split(T_train, nb_of_batches, axis=0))  # Y targets"
   ]
  },
  {
   "cell_type": "code",
   "execution_count": 436,
   "metadata": {},
   "outputs": [],
   "source": [
    "# # Define a method to update the parameters\n",
    "# def update_params(layers, param_grads, learning_rate):\n",
    "#     \"\"\"\n",
    "#     Function to update the parameters of the given layers with the given gradients\n",
    "#     by gradient descent with the given learning rate.\n",
    "#     \"\"\"\n",
    "#     for layer, layer_backprop_grads in zip(layers, param_grads):\n",
    "#         for param, grad in itertools.izip(layer.get_params_iter(), layer_backprop_grads):\n",
    "#             # The parameter returned by the iterator point to the memory space of\n",
    "#             #  the original layer and can thus be modified inplace.\n",
    "#             param -= learning_rate * grad  # Update each parameter"
   ]
  },
  {
   "cell_type": "code",
   "execution_count": 437,
   "metadata": {},
   "outputs": [],
   "source": [
    "# 方法:给某node的某权重加微小数值\n",
    "def change_weight(layers,layer_index,node_index,weight_index,eps):\n",
    "    #print(\"eps : \" + str(eps))\n",
    "    layer = layers[layer_index - 1]\n",
    "    #print(\"前w : \" + str(layer.W[weight_index - 1][node_index - 1]))\n",
    "    layer.W[weight_index - 1][node_index - 1] += eps\n",
    "    #print(\"后w : \" + str(layer.W[weight_index - 1][node_index - 1]))\n",
    "    #print(\"-----------------------\")\n",
    "    "
   ]
  },
  {
   "cell_type": "code",
   "execution_count": 438,
   "metadata": {},
   "outputs": [
    {
     "name": "stdout",
     "output_type": "stream",
     "text": [
      "10000\n",
      "20000\n",
      "30000\n",
      "40000\n",
      "50000\n",
      "均值     : -0.738197245051427\n",
      "标准误差 : 0.001582725558380\n"
     ]
    }
   ],
   "source": [
    "# Perform backpropagation\n",
    "# initalize some lists to store the cost for future analysis        \n",
    "# minibatch_costs = []\n",
    "# training_costs = []\n",
    "# validation_costs = []\n",
    "\n",
    "#取单张图片\n",
    "x1 = digits.data[0]\n",
    "x1 = np.expand_dims(x1, axis=0)\n",
    "t1 = T[0]\n",
    "t1 = np.expand_dims(t1, axis=0)\n",
    "# print(type(x1))\n",
    "# print(x1.shape)\n",
    "# print(x1)\n",
    "# print(\"------------------------------------------------------\")\n",
    "# print(type(t1))\n",
    "# print(t1.shape)\n",
    "# print(t1)\n",
    "\n",
    "eps = 0.000000001\n",
    "sigm = 5 #35\n",
    "max_nb_of_iterations = 50000  \n",
    "# 存下每次迭代时此节点某个权重的grad\n",
    "w = []\n",
    "layer_index,node_index,weight_index= 3,1,1  #layer : 1,3\n",
    "\n",
    "#  开始训练\n",
    "for iteration in range(max_nb_of_iterations):\n",
    "    bs = 1\n",
    "    \n",
    "    # 准备好各layer的高斯noise\n",
    "    noise1 = []\n",
    "    noise1.append(np.random.randn(1,20)*sigm)\n",
    "    noise1.append([])\n",
    "    noise1.append(np.random.randn(1,10)*sigm)\n",
    "    noise1.append([])\n",
    "    \n",
    "    # 改变w的值, + eps\n",
    "    change_weight(layers,layer_index,node_index,weight_index,eps)\n",
    "    activations1 = forward_step(x1,layers,bs,noise1)\n",
    "#     print(\"--------- ac ---------\")\n",
    "#     print(activations1[-1].shape)\n",
    "    lossa = layers[-1].get_cost(activations1[-1],t1)\n",
    "    # 恢复w的值\n",
    "    change_weight(layers,layer_index,node_index,weight_index,-1*eps)\n",
    "    \n",
    "    # 改变w的值, - eps\n",
    "    change_weight(layers,layer_index,node_index,weight_index,-1*eps)\n",
    "    activations2 = forward_step(x1,layers,bs,noise1)\n",
    "    lossb = layers[-1].get_cost(activations2[-1],t1)\n",
    "    # 恢复w的值\n",
    "    change_weight(layers,layer_index,node_index,weight_index,eps)\n",
    "    grad = (lossa - lossb)/(2*eps)\n",
    "    w.append(grad)\n",
    "    \n",
    "    # 显示迭代次数\n",
    "    if (iteration + 1) % 10000 == 0:\n",
    "        print(iteration + 1) \n",
    "# 显示w的方差和均值\n",
    "print('均值     : '+ str(np.mean(w)))\n",
    "print('标准误差 : '+ \"{:.15f}\".format( np.std(w)/np.math.sqrt(max_nb_of_iterations) )) "
   ]
  },
  {
   "cell_type": "code",
   "execution_count": 439,
   "metadata": {},
   "outputs": [
    {
     "ename": "IndentationError",
     "evalue": "unexpected indent (<ipython-input-439-6d05ec419670>, line 2)",
     "output_type": "error",
     "traceback": [
      "\u001b[1;36m  File \u001b[1;32m\"<ipython-input-439-6d05ec419670>\"\u001b[1;36m, line \u001b[1;32m2\u001b[0m\n\u001b[1;33m    0.001590605978503    0.001590195493139    0.001593100262609    0.001590821526654    0.001582926987921    0.001597496964117\u001b[0m\n\u001b[1;37m    ^\u001b[0m\n\u001b[1;31mIndentationError\u001b[0m\u001b[1;31m:\u001b[0m unexpected indent\n"
     ]
    }
   ],
   "source": [
    "-0.7381045555059148  -0.7373082539131488  -0.7359272784028735  -0.7374334871762546  -0.7375924447874685  -0.7338842603461931\n",
    " 0.001590605978503    0.001590195493139    0.001593100262609    0.001590821526654    0.001582926987921    0.001597496964117\n"
   ]
  },
  {
   "cell_type": "code",
   "execution_count": 119,
   "metadata": {},
   "outputs": [
    {
     "name": "stdout",
     "output_type": "stream",
     "text": [
      "[1. 0. 0. 0. 0. 0. 0. 0. 0. 0.]\n",
      "[[1. 0. 0. 0. 0. 0. 0. 0. 0. 0.]]\n",
      "[[10]\n",
      " [ 9]\n",
      " [ 8]\n",
      " [ 7]\n",
      " [ 6]\n",
      " [ 5]\n",
      " [ 4]\n",
      " [ 3]\n",
      " [ 2]\n",
      " [ 1]]\n",
      "[10.]\n",
      "[[10.]]\n",
      "(1L,)\n",
      "(1L, 1L)\n"
     ]
    }
   ],
   "source": [
    "#(1L,10L)和(10L,)进行矩阵运算时数值是一致的\n",
    "# x1 = digits.data[0]\n",
    "# x2 = np.expand_dims(x1, axis=0)\n",
    "t1 = T[0]\n",
    "t2 = np.expand_dims(t1, axis=0)\n",
    "t3 = np.array([[10],[9],[8],[7],[6],[5],[4],[3],[2],[1]])\n",
    "# print(t1)\n",
    "# print(t2)\n",
    "# print(t3)\n",
    "# print(t1.dot(t3))\n",
    "# print(t2.dot(t3))\n",
    "# print(t1.dot(t3).shape)\n",
    "# print(t2.dot(t3).shape)"
   ]
  },
  {
   "cell_type": "code",
   "execution_count": null,
   "metadata": {},
   "outputs": [],
   "source": [
    "(1L, 65L)\n",
    "<type 'numpy.ndarray'>\n",
    "[[ 1.  0.  0.  5. 13.  9.  1.  0.  0.  0.  0. 13. 15. 10. 15.  5.  0.  0.\n",
    "   3. 15.  2.  0. 11.  8.  0.  0.  4. 12.  0.  0.  8.  8.  0.  0.  5.  8.\n",
    "   0.  0.  9.  8.  0.  0.  4. 11.  0.  1. 12.  7.  0.  0.  2. 14.  5. 10.\n",
    "  12.  0.  0.  0.  0.  6. 13. 10.  0.  0.  0.]]\n",
    "---------------------------------------------------------------\n",
    "(1L, 10L)\n",
    "<type 'numpy.ndarray'>\n",
    "[[1. 0. 0. 0. 0. 0. 0. 0. 0. 0.]]"
   ]
  },
  {
   "cell_type": "code",
   "execution_count": null,
   "metadata": {},
   "outputs": [],
   "source": [
    "BP grad check :    \n",
    "sigma = 1   index: 2,3,6  eps = 0.000000001  iteration=50000    置信区间\n",
    "mean : 0.0020495769240125306  0.002078444063247087  0.0020799768912782564  0.002117528955514203 0.0020741216685826735  0.002076547270246642\n",
    "SE   : 0.000016759583866      0.000017834399265     0.000018665902527      0.000017771795210    0.000017511329352      0.000016863149006\n",
    "\n",
    "mean : 0.0020779067305687353  0.00208111487431939  0.0020924696661484     0.0020750405832492547 0.0020818453305704305  0.002090918322233959\n",
    "SE   : 0.000017978795028      0.000016744602387    0.000017283383773      0.000016808492089     0.000017181462061      0.000017380478599"
   ]
  },
  {
   "cell_type": "code",
   "execution_count": null,
   "metadata": {},
   "outputs": [],
   "source": [
    "----------\n",
    "BP grad check :    \n",
    "sigma = 1   index: 1,2,5  eps = 0.000000001  iteration=50000    基本都在置信区间内 个别的不在置信区间内\n",
    "0.00023423955386459028 0.000231929280294918  0.00023035868101928259  0.0002506730734097573  0.0002880321897658078  0.0002673656046559003\n",
    "0.000023695903378      0.000023736698396     0.000023740645944       0.000023825522032      0.000024117845601      0.000024149742318\n",
    "----------"
   ]
  },
  {
   "cell_type": "code",
   "execution_count": null,
   "metadata": {},
   "outputs": [],
   "source": [
    "----------\n",
    "BP grad check :    \n",
    "sigma = 1   index: 3,1,1 eps = 0.000000001  基本都在置信区间内 个别的不在置信区间内\n",
    "0.010026767945925386  0.00991859680651852    0.00998332517238021     0.010114318405862743   0.009963580570038209   0.010053343907773238  \n",
    "0.000073841999104     0.000070439197762      0.000072341215463       0.000072881063699      0.000070908132449      0.000072668180733\n",
    "\n",
    "0.009945580512760177  0.00992164006702323    0.009982833872879128    0.009892310247339164   0.009912317212867892   0.009858059007300524    \n",
    "0.000071999121371     0.000071668311052      0.000071485047325       0.000070741112615      0.000070940630232      0.000069826406757 \n",
    "----------"
   ]
  },
  {
   "cell_type": "code",
   "execution_count": 263,
   "metadata": {},
   "outputs": [
    {
     "name": "stdout",
     "output_type": "stream",
     "text": [
      "0.00206633650788\n",
      "0.00206060966398\n"
     ]
    }
   ],
   "source": [
    "# 验证置信区间\n",
    "d1 =   0.0020495769240125306\n",
    "eps1 = 0.000016759583866\n",
    "d2 =   0.002078444063247087\n",
    "eps2 = 0.000017834399265 \n",
    "print(d1 + eps1) #大\n",
    "print(d2 - eps2) #小"
   ]
  },
  {
   "cell_type": "code",
   "execution_count": null,
   "metadata": {},
   "outputs": [],
   "source": [
    "----------\n",
    "BP grad check :    \n",
    "sigma = 100   index: 3,1,1 eps = 0.000000001  置信区间  nan问题\n",
    "0.05077270555556837  0.049058228592304694    0.04964256096726661     0.050799105929777516   0.04784441040674067*   0.04956721125636716  \n",
    "0.000968773730964    0.000954082790953       0.000959551088207       0.000970190460007      0.000942596747268      0.000957921011789\n",
    "\n",
    "0.04802735342241512  0.04929215473875475     0.04935728961586507     0.04942941053883725    0.04974981535710003    0.050218366790931876    \n",
    "0.000944178856878*   0.000956777269162       0.000957426074984       0.000958272294223      0.000960622189282      0.000964762511954  \n",
    "----------\n",
    "\n"
   ]
  },
  {
   "cell_type": "code",
   "execution_count": 62,
   "metadata": {},
   "outputs": [],
   "source": [
    "# 选定的权重 : layer2,node1,weight1\n",
    "============================================\n",
    "BP法一 :(正常方法计算grad) :           sigma = 1                        全在置信区间\n",
    "mean : 0.010026768487083235  0.00991859750727568    0.009983325531141016    0.01011431937186198    0.009947821015864488    0.009963580580966535\n",
    "SE   : 0.000073841998315     0.000070439199795      0.000072341219021       0.000072881065431      0.000071686513809       0.000070908133642 \n",
    "\n",
    "BP法二 :(梯度的数值逼近计算grad) :     sigma = 1     eps = 0.000000001  全在置信区间        \n",
    "mean : 0.010026589128686593  0.009918825861765512   0.009983802152502273    0.010113635804803735   0.00994806789736402     0.009963361458364961\n",
    "SE   : 0.000073842244197     0.000070438961814      0.000072343052882       0.000072879454182      0.000071686364345       0.000070908224526\n",
    "\n",
    "------------------------------------------\n",
    "# 选定的权重 : layer2,node1,weight1  \n",
    "新算法法一(论文方法算grad) :        sigma = 1   index: 3,1,1                     基本不在置信区间里\n",
    "mean : -1.0399425268865687   -0.9582785825537358    -0.9238959524971541    -1.0109073955813968   -0.9219608197997469   -0.8530126228738921\n",
    "SE   :  0.001779915596119     0.001756311087796      0.001731736375919      0.001763361357926     0.001733751541406     0.001687950497858\n",
    "\n",
    "新算法法二(梯度的数值逼近计算grad) :sigma = 1   index: 3,1,1  eps = 0.000000001  都不在置信区间\n",
    "mean : 0.01520875838916663    0.016980545326046245   0.019024104253098643    0.01668341347920224   0.021800709326530446   0.01403939312583091\n",
    "SE   : 0.000051951133106      0.000056440500778      0.000060850712043       0.000055290239140     0.000066330304731      0.000049409087263\n",
    "============================================\n"
   ]
  },
  {
   "cell_type": "code",
   "execution_count": 385,
   "metadata": {
    "scrolled": true
   },
   "outputs": [],
   "source": [
    "# Plot the minibatch, full training set, and validation costs\n",
    "minibatch_x_inds = np.linspace(0, nb_of_iterations, num=nb_of_iterations*nb_of_batches)\n",
    "iteration_x_inds = np.linspace(1, nb_of_iterations, num=nb_of_iterations)\n",
    "# Plot the cost over the iterations\n",
    "plt.plot(minibatch_x_inds, minibatch_costs, 'k-', linewidth=0.5, label='cost minibatches')\n",
    "plt.plot(iteration_x_inds, training_costs, 'r-', linewidth=2, label='cost full training set')\n",
    "plt.plot(iteration_x_inds, validation_costs, 'b-', linewidth=3, label='cost validation set')\n",
    "# Add labels to the plot\n",
    "plt.xlabel('iteration')\n",
    "plt.ylabel('$\\\\xi$', fontsize=15)\n",
    "plt.title('Decrease of cost over backprop iteration')\n",
    "plt.legend()\n",
    "x1,x2,y1,y2 = plt.axis()\n",
    "plt.axis((0,nb_of_iterations,0,2.5))\n",
    "plt.grid()\n",
    "plt.show()\n",
    "print(123)"
   ]
  },
  {
   "cell_type": "code",
   "execution_count": 386,
   "metadata": {},
   "outputs": [],
   "source": [
    "# Get results of test data\n",
    "y_true = np.argmax(T_test, axis=1)  # Get the target outputs\n",
    "activations = forward_step(X_test, layers)  # Get activation of test samples\n",
    "y_pred = np.argmax(activations[-1], axis=1)  # Get the predictions made by the network\n",
    "test_accuracy = metrics.accuracy_score(y_true, y_pred)  # Test set accuracy\n",
    "print('The accuracy on the test set is {:.2f}'.format(test_accuracy))"
   ]
  },
  {
   "cell_type": "code",
   "execution_count": 18,
   "metadata": {
    "collapsed": true
   },
   "outputs": [
    {
     "data": {
      "image/png": "[encoded data removed]",
      "text/plain": [
       "<matplotlib.figure.Figure at 0x7f75c37aae90>"
      ]
     },
     "metadata": {},
     "output_type": "display_data"
    }
   ],
   "source": [
    "# Show confusion table\n",
    "conf_matrix = metrics.confusion_matrix(y_true, y_pred, labels=None)  # Get confustion matrix\n",
    "# Plot the confusion table\n",
    "class_names = ['${:d}$'.format(x) for x in range(0, 10)]  # Digit class names\n",
    "fig = plt.figure()\n",
    "ax = fig.add_subplot(111)\n",
    "# Show class labels on each axis\n",
    "ax.xaxis.tick_top()\n",
    "major_ticks = range(0,10)\n",
    "minor_ticks = [x + 0.5 for x in range(0, 10)]\n",
    "ax.xaxis.set_ticks(major_ticks, minor=False)\n",
    "ax.yaxis.set_ticks(major_ticks, minor=False)\n",
    "ax.xaxis.set_ticks(minor_ticks, minor=True)\n",
    "ax.yaxis.set_ticks(minor_ticks, minor=True)\n",
    "ax.xaxis.set_ticklabels(class_names, minor=False, fontsize=15)\n",
    "ax.yaxis.set_ticklabels(class_names, minor=False, fontsize=15)\n",
    "# Set plot labels\n",
    "ax.yaxis.set_label_position(\"right\")\n",
    "ax.set_xlabel('Predicted label')\n",
    "ax.set_ylabel('True label')\n",
    "fig.suptitle('Confusion table', y=1.03, fontsize=15)\n",
    "# Show a grid to seperate digits\n",
    "ax.grid(b=True, which=u'minor')\n",
    "# Color each grid cell according to the number classes predicted\n",
    "ax.imshow(conf_matrix, interpolation='nearest', cmap='binary')\n",
    "# Show the number of samples in each cell\n",
    "for x in xrange(conf_matrix.shape[0]):\n",
    "    for y in xrange(conf_matrix.shape[1]):\n",
    "        color = 'w' if x == y else 'k'\n",
    "        ax.text(x, y, conf_matrix[y,x], ha=\"center\", va=\"center\", color=color)       \n",
    "plt.show()"
   ]
  },
  {
   "cell_type": "code",
   "execution_count": null,
   "metadata": {},
   "outputs": [],
   "source": []
  }
 ],
 "metadata": {
  "kernelspec": {
   "display_name": "Python 3",
   "language": "python",
   "name": "python3"
  },
  "language_info": {
   "codemirror_mode": {
    "name": "ipython",
    "version": 3
   },
   "file_extension": ".py",
   "mimetype": "text/x-python",
   "name": "python",
   "nbconvert_exporter": "python",
   "pygments_lexer": "ipython3",
   "version": "3.6.4"
  }
 },
 "nbformat": 4,
 "nbformat_minor": 2
}
