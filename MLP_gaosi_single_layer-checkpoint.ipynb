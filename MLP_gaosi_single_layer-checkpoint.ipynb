{
 "cells": [
  {
   "cell_type": "code",
   "execution_count": 16,
   "metadata": {},
   "outputs": [],
   "source": [
    "# 此程序有毒 : 注释掉不用的方法或者属性时,得到的结果不一样"
   ]
  },
  {
   "cell_type": "code",
   "execution_count": 1,
   "metadata": {},
   "outputs": [
    {
     "name": "stderr",
     "output_type": "stream",
     "text": [
      "C:\\Users\\kzw\\AppData\\Local\\conda\\conda\\envs\\python27\\lib\\site-packages\\sklearn\\cross_validation.py:41: DeprecationWarning: This module was deprecated in version 0.18 in favor of the model_selection module into which all the refactored classes and functions are moved. Also note that the interface of the new CV iterators are different from that of this module. This module will be removed in 0.20.\n",
      "  \"This module will be removed in 0.20.\", DeprecationWarning)\n"
     ]
    }
   ],
   "source": [
    "# Python imports\n",
    "import numpy as np # Matrix and vector computation package\n",
    "import matplotlib.pyplot as plt  # Plotting library\n",
    "# Allow matplotlib to plot inside this notebook\n",
    "%matplotlib inline\n",
    "# Set the seed of the numpy random number generator so that the tutorial is reproducable\n",
    "np.random.seed(seed=1)\n",
    "from sklearn import datasets, cross_validation, metrics # data and evaluation utils\n",
    "from matplotlib.colors import colorConverter, ListedColormap # some plotting functions\n",
    "import itertools\n",
    "import collections"
   ]
  },
  {
   "cell_type": "code",
   "execution_count": 2,
   "metadata": {},
   "outputs": [],
   "source": [
    "digits = datasets.load_digits()\n",
    "\n",
    "T = np.zeros((digits.target.shape[0],10))\n",
    "T[np.arange(len(T)), digits.target] += 1\n",
    "\n",
    "X_train, X_test, T_train, T_test = cross_validation.train_test_split(\n",
    "    digits.data, T, test_size=0.4)\n",
    "X_validation, X_test, T_validation, T_test = cross_validation.train_test_split(\n",
    "    X_test, T_test, test_size=0.5)"
   ]
  },
  {
   "cell_type": "code",
   "execution_count": 3,
   "metadata": {},
   "outputs": [
    {
     "data": {
      "image/png": "[encoded data removed]",
      "text/plain": [
       "<Figure size 1000x100 with 10 Axes>"
      ]
     },
     "metadata": {},
     "output_type": "display_data"
    }
   ],
   "source": [
    "fig = plt.figure(figsize=(10, 1), dpi=100)\n",
    "for i in range(10):\n",
    "    ax = fig.add_subplot(1,10,i+1)\n",
    "    ax.matshow(digits.images[i], cmap='binary') \n",
    "    ax.axis('off')\n",
    "plt.show()"
   ]
  },
  {
   "cell_type": "code",
   "execution_count": 4,
   "metadata": {},
   "outputs": [],
   "source": [
    "# Define the non-linear functions used\n",
    "def logistic(z): \n",
    "    return 1 / (1 + np.exp(-z))\n",
    "\n",
    "def logistic_deriv(y):  # Derivative of logistic function\n",
    "    return np.multiply(y, (1 - y))\n",
    "    \n",
    "def softmax(z): \n",
    "    return np.exp(z) / np.sum(np.exp(z), axis=1, keepdims=True)"
   ]
  },
  {
   "cell_type": "code",
   "execution_count": 5,
   "metadata": {},
   "outputs": [],
   "source": [
    "# Define the layers used in this model\n",
    "class Layer(object):\n",
    "    \n",
    "#     def get_params_iter(self):\n",
    "#         \"\"\"Return an iterator over the parameters (if any).\n",
    "#         The iterator has the same order as get_params_grad.\n",
    "#         The elements returned by the iterator are editable in-place.\"\"\"\n",
    "#         return []\n",
    "    \n",
    "    def get_params_grad(self, X, output_grad):\n",
    "        return [],[]\n",
    "    \n",
    "    # def add高斯noise *****\n",
    "#     def add_gaosi_noise(self):\n",
    "#         pass\n",
    "    \n",
    "    # def remove高斯noise *****\n",
    "#     def remove_gaosi_noise(self):\n",
    "#         pass\n",
    "    \n",
    "    def get_output(self, X):\n",
    "        pass\n",
    "    \n",
    "    def get_input_grad(self, Y, output_grad=None, T=None):\n",
    "        pass"
   ]
  },
  {
   "cell_type": "code",
   "execution_count": 6,
   "metadata": {},
   "outputs": [],
   "source": [
    "class LinearLayer(Layer):\n",
    "    \n",
    "    def __init__(self, n_in, n_out,sigm):\n",
    "        self.W = np.random.randn(n_in, n_out) * 0.1\n",
    "        self.b = np.zeros(n_out)\n",
    "        self.sig = sigm\n",
    "        # 存下本层的结点数*****\n",
    "        self.nodenum = n_out\n",
    "        self.gaosi_noise = 0\n",
    "        self.curbs = 0\n",
    "        \n",
    "    # def add高斯noise *****\n",
    "#     def add_gaosi_noise(self):\n",
    "#         self.gaosi_noise = np.random.randn(self.curbs, self.nodenum) * self.sig\n",
    "        \n",
    "#     # def remove高斯noise *****\n",
    "#     def remove_gaosi_noise(self):\n",
    "#         self.gaosi_noise = 0\n",
    "        \n",
    "#     def get_params_iter(self):\n",
    "#         \"\"\"Return an iterator over the parameters.\"\"\"\n",
    "#         return itertools.chain(np.nditer(self.W, op_flags=['readwrite']),\n",
    "#                                np.nditer(self.b, op_flags=['readwrite']))\n",
    "    \n",
    "    def get_output(self, X):\n",
    "        return X.dot(self.W) + self.gaosi_noise + self.b\n",
    "        \n",
    "    def get_params_grad(self, X, output_grad):\n",
    "        JW = X.T.dot(output_grad)\n",
    "        Jb = np.sum(output_grad, axis=0)\n",
    "        return [g for g in itertools.chain(np.nditer(JW), np.nditer(Jb))],JW\n",
    "    \n",
    "    def get_input_grad(self, Y, output_grad):\n",
    "        return output_grad.dot(self.W.T)"
   ]
  },
  {
   "cell_type": "code",
   "execution_count": 7,
   "metadata": {},
   "outputs": [],
   "source": [
    "class LogisticLayer(Layer):\n",
    "    \n",
    "    def get_output(self, X):\n",
    "        return logistic(X)\n",
    "    \n",
    "    def get_input_grad(self, Y, output_grad):\n",
    "        return np.multiply(logistic_deriv(Y), output_grad)"
   ]
  },
  {
   "cell_type": "code",
   "execution_count": 8,
   "metadata": {},
   "outputs": [],
   "source": [
    "class SoftmaxOutputLayer(Layer):\n",
    "    \n",
    "    def get_output(self, X):\n",
    "        return softmax(X)\n",
    "    \n",
    "    def get_input_grad(self, Y, T):\n",
    "        re = (Y - T) / 1                      #Y.shape[0]   # 大更改 : batchsize大于1时除以样本数,此例子batchsize为1应除以1\n",
    "#         print(\"--------- input_grad ----------\")\n",
    "#         print(\"T.shape : \" + str(T.shape))\n",
    "#         print(\"Y.shape : \" + str(Y.shape))\n",
    "#         print(\"Y.shape[0] : \" + str(Y.shape[0]))\n",
    "#         print(\"Y - T : \" + str((Y - T).shape))\n",
    "        \n",
    "        return re\n",
    "    \n",
    "    def get_cost(self, Y, T):\n",
    "        \n",
    "#         print(\"--------- cost ----------\")\n",
    "#         print(\"T.shape : \" + str(T.shape))\n",
    "#         print(\"Y.shape : \" + str(Y.shape))\n",
    "#         print(\"Y.shape[0] : \" + str(Y.shape[0]))\n",
    "#         print(\"Y - T : \" + str((Y - T).shape))\n",
    "        \n",
    "        return - np.multiply(T, np.log(Y)).sum() / 1      #Y.shape[0]                                 大更改: 单样本时应该除以1"
   ]
  },
  {
   "cell_type": "code",
   "execution_count": 9,
   "metadata": {},
   "outputs": [
    {
     "name": "stdout",
     "output_type": "stream",
     "text": [
      "(20L,)\n",
      "(10L,)\n"
     ]
    }
   ],
   "source": [
    "# Define a sample model to be trained on the data\n",
    "sigm = 0.5\n",
    "hidden_neurons_1 = 20  # Number of neurons in the first hidden-layer\n",
    "hidden_neurons_2 = 20  # Number of neurons in the second hidden-layer\n",
    "# Create the model\n",
    "layers = [] # Define a list of layers\n",
    "# Add first hidden layer\n",
    "layers.append(LinearLayer(X_train.shape[1], hidden_neurons_1,sigm))\n",
    "layers.append(LogisticLayer())\n",
    "# Add second hidden layer\n",
    "# layers.append(LinearLayer(hidden_neurons_1, hidden_neurons_2))\n",
    "# layers.append(LogisticLayer())\n",
    "# Add output layer\n",
    "layers.append(LinearLayer(hidden_neurons_2, T_train.shape[1],sigm))\n",
    "layers.append(SoftmaxOutputLayer())\n",
    "\n",
    "print(layers[0].b.shape)\n",
    "print(layers[2].b.shape)"
   ]
  },
  {
   "cell_type": "code",
   "execution_count": 10,
   "metadata": {},
   "outputs": [],
   "source": [
    "def forward_step(input_samples,layers,bs,noise1):\n",
    "    activations = [input_samples]\n",
    "    X = input_samples\n",
    "    for index in range(len(layers)):\n",
    "        layer = layers[index]\n",
    "        layer.curbs = bs\n",
    "        #layer.add_gaosi_noise()\n",
    "        layer.gaosi_noise = noise1[index]\n",
    "        Y = layer.get_output(X) \n",
    "        activations.append(Y) \n",
    "        X = activations[-1]  \n",
    "    return activations "
   ]
  },
  {
   "cell_type": "code",
   "execution_count": 11,
   "metadata": {},
   "outputs": [],
   "source": [
    "# # 前向传播 : add 高斯nosie *****\n",
    "# def forward_step2(input_samples, layers):\n",
    "#     activations = [input_samples] # List of layer activations\n",
    "#     X = input_samples\n",
    "#     for layer in layers:\n",
    "#         # *****remove\n",
    "#         layer.remove_gaosi_noise()\n",
    "#         Y = layer.get_output(X) \n",
    "#         activations.append(Y) \n",
    "#         X = activations[-1]  \n",
    "#     return activations  "
   ]
  },
  {
   "cell_type": "code",
   "execution_count": 12,
   "metadata": {},
   "outputs": [],
   "source": [
    "# Define the backward propagation step as a method\n",
    "def backward_step(activations, targets, layers):\n",
    "    param_grads = collections.deque() \n",
    "    jws = collections.deque() #***** get每一层的JW\n",
    "    output_grad = None \n",
    "    for layer in reversed(layers):   \n",
    "        Y = activations.pop() \n",
    "        if output_grad is None:\n",
    "            input_grad = layer.get_input_grad(Y, targets)\n",
    "        else: \n",
    "            input_grad = layer.get_input_grad(Y, output_grad) # 输出a + 输出导数 -> 得输入导数  linear层时Y没有用到\n",
    "        X = activations[-1]\n",
    "        grads,JW = layer.get_params_grad(X, output_grad)      # 输入a + 输出导数 -> 此层的grad\n",
    "        \n",
    "#         print(\"--------------- JW ---------------\")\n",
    "#         print(len(JW))\n",
    "#         print(\"JW.shape : \" + str(JW.shape))\n",
    "#         print(\"JW.type : \" + str(type(JW)))\n",
    "        \n",
    "        param_grads.appendleft(grads)\n",
    "        output_grad = input_grad\n",
    "        jws.appendleft(JW) #get本层的JW\n",
    "    return list(param_grads),jws "
   ]
  },
  {
   "cell_type": "code",
   "execution_count": 13,
   "metadata": {},
   "outputs": [],
   "source": [
    "# # Create the minibatches\n",
    "# batch_size = 25  # Approximately 25 samples per batch\n",
    "# nb_of_batches = X_train.shape[0] / batch_size  # Number of batches\n",
    "# # Create batches (X,Y) from the training set\n",
    "# XT_batches = zip(\n",
    "#     np.array_split(X_train, nb_of_batches, axis=0),  # X samples\n",
    "#     np.array_split(T_train, nb_of_batches, axis=0))  # Y targets"
   ]
  },
  {
   "cell_type": "code",
   "execution_count": 14,
   "metadata": {},
   "outputs": [],
   "source": [
    "# # Define a method to update the parameters\n",
    "# def update_params(layers, param_grads, learning_rate):\n",
    "#     \"\"\"\n",
    "#     Function to update the parameters of the given layers with the given gradients\n",
    "#     by gradient descent with the given learning rate.\n",
    "#     \"\"\"\n",
    "#     for layer, layer_backprop_grads in zip(layers, param_grads):\n",
    "#         for param, grad in itertools.izip(layer.get_params_iter(), layer_backprop_grads):\n",
    "#             # The parameter returned by the iterator point to the memory space of\n",
    "#             #  the original layer and can thus be modified inplace.\n",
    "#             param -= learning_rate * grad  # Update each parameter"
   ]
  },
  {
   "cell_type": "code",
   "execution_count": 15,
   "metadata": {},
   "outputs": [
    {
     "name": "stdout",
     "output_type": "stream",
     "text": [
      "10000\n",
      "20000\n",
      "30000\n",
      "40000\n",
      "50000\n",
      "均值    : 4.689701585513435e-05\n",
      "标准误差 : 0.000000157598302\n"
     ]
    }
   ],
   "source": [
    "# Perform backpropagation\n",
    "# initalize some lists to store the cost for future analysis        \n",
    "minibatch_costs = []\n",
    "training_costs = []\n",
    "validation_costs = []\n",
    "\n",
    "#取单张图片\n",
    "x1 = digits.data[0]\n",
    "x1 = np.expand_dims(x1, axis=0)\n",
    "t1 = T[0]\n",
    "# x1 = X_train[0]\n",
    "# x1 = np.expand_dims(x1, axis=0)\n",
    "# t1 = T_train[0]\n",
    "# print(x1.shape)\n",
    "# print(type(x1))\n",
    "# print(x1)\n",
    "# print(\"---------------------------------------------------------------\")\n",
    "# print(t1.shape)\n",
    "# print(type(t1))\n",
    "# print(t1)\n",
    "\n",
    "max_nb_of_iterations = 50000\n",
    "# 存下每次迭代时此节点第一个权重的grad\n",
    "w = []\n",
    "layer_index,node_index,weight_index = 3,5,6 #layer : 1,3\n",
    "for iteration in range(max_nb_of_iterations):\n",
    "    \n",
    "    # 准备好各layer的高斯noise\n",
    "    noise1 = []\n",
    "    noise1.append(np.random.randn(1,20)*sigm)\n",
    "    noise1.append([])\n",
    "    noise1.append(np.random.randn(1,10)*sigm)\n",
    "    noise1.append([])\n",
    "    \n",
    "    bs = 1\n",
    "    activations = forward_step(x1,layers,bs,noise1)\n",
    "    #get所有层w的梯度\n",
    "    param_grads,jws = backward_step(activations, t1, layers)  \n",
    "    #update_params(layers, param_grads, learning_rate)  \n",
    "    w.append(jws[layer_index - 1][weight_index - 1][node_index - 1]) # jws[0]:(64,20)  jws[1]:[]  jws[2]:(20L, 10L)  jws[3]:[]   \n",
    "    \n",
    "    # 显示迭代次数\n",
    "    if (iteration + 1) % 10000 == 0:\n",
    "        print(iteration + 1) \n",
    "#     print(jws[0].shape)\n",
    "#     print(jws[2].shape)\n",
    "#     print(\"=========================== 一个循环 ==========================\")\n",
    "# 显示w的方差和均值\n",
    "print('均值    : '+ str(np.mean(w)))\n",
    "print('标准误差 : '+ \"{:.15f}\".format( np.std(w)/np.math.sqrt(max_nb_of_iterations) ))  "
   ]
  },
  {
   "cell_type": "code",
   "execution_count": 16,
   "metadata": {},
   "outputs": [],
   "source": [
    "# 均值 :    -0.03443065851885252 4607\n",
    "# 标准误差 : 0.000170076698902"
   ]
  },
  {
   "cell_type": "code",
   "execution_count": 17,
   "metadata": {},
   "outputs": [
    {
     "name": "stdout",
     "output_type": "stream",
     "text": [
      "(1L, 64L)\n",
      "<type 'numpy.ndarray'>\n",
      "[[ 0.  0.  5. 13.  9.  1.  0.  0.  0.  0. 13. 15. 10. 15.  5.  0.  0.  3.\n",
      "  15.  2.  0. 11.  8.  0.  0.  4. 12.  0.  0.  8.  8.  0.  0.  5.  8.  0.\n",
      "   0.  9.  8.  0.  0.  4. 11.  0.  1. 12.  7.  0.  0.  2. 14.  5. 10. 12.\n",
      "   0.  0.  0.  0.  6. 13. 10.  0.  0.  0.]]\n",
      "---------------------------------------------------------------\n",
      "(10L,)\n",
      "<type 'numpy.ndarray'>\n",
      "[1. 0. 0. 0. 0. 0. 0. 0. 0. 0.]\n"
     ]
    }
   ],
   "source": [
    "print(x1.shape)\n",
    "print(type(x1))\n",
    "print(x1)\n",
    "print(\"---------------------------------------------------------------\")\n",
    "print(t1.shape)\n",
    "print(type(t1))\n",
    "print(t1)"
   ]
  },
  {
   "cell_type": "code",
   "execution_count": 18,
   "metadata": {},
   "outputs": [],
   "source": [
    "# # MLP_gaosi_single_layer_grad_check\n",
    "# (1L, 64L)\n",
    "# <type 'numpy.ndarray'>\n",
    "# [[ 0.  0.  5. 13.  9.  1.  0.  0.  0.  0. 13. 15. 10. 15.  5.  0.  0.  3.\n",
    "#   15.  2.  0. 11.  8.  0.  0.  4. 12.  0.  0.  8.  8.  0.  0.  5.  8.  0.\n",
    "#    0.  9.  8.  0.  0.  4. 11.  0.  1. 12.  7.  0.  0.  2. 14.  5. 10. 12.\n",
    "#    0.  0.  0.  0.  6. 13. 10.  0.  0.  0.]]\n",
    "# ---------------------------------------------------------------\n",
    "# (10L,)\n",
    "# <type 'numpy.ndarray'>\n",
    "# [1. 0. 0. 0. 0. 0. 0. 0. 0. 0.]"
   ]
  },
  {
   "cell_type": "code",
   "execution_count": 1,
   "metadata": {},
   "outputs": [],
   "source": [
    "# # MLP_weibull_noise_single_layer\n",
    "# (1L, 65L)\n",
    "# <type 'numpy.ndarray'>\n",
    "# [[ 1.  0.  0.  5. 13.  9.  1.  0.  0.  0.  0. 13. 15. 10. 15.  5.  0.  0.\n",
    "#    3. 15.  2.  0. 11.  8.  0.  0.  4. 12.  0.  0.  8.  8.  0.  0.  5.  8.\n",
    "#    0.  0.  9.  8.  0.  0.  4. 11.  0.  1. 12.  7.  0.  0.  2. 14.  5. 10.\n",
    "#   12.  0.  0.  0.  0.  6. 13. 10.  0.  0.  0.]]\n",
    "# ---------------------------------------------------------------\n",
    "# (10L,)\n",
    "# <type 'numpy.ndarray'>\n",
    "# [1. 0. 0. 0. 0. 0. 0. 0. 0. 0.]"
   ]
  },
  {
   "cell_type": "raw",
   "metadata": {},
   "source": [
    "----------\n",
    "this grad : \n",
    "sigma = 1   index: 3,1,1   全在置信区间\n",
    "0.010026768487083235  0.00991859750727568    0.009983325531141016    0.01011431937186198   0.009947821015864488    0.009963580580966535\n",
    "0.000073841998315     0.000070439199795      0.000072341219021       0.000072881065431     0.000071686513809       0.000070908133642 \n",
    "\n",
    "weibull grad check :       基本都在置信区间\n",
    "0.038497284454554276  0.03832831332933766   0.03854298042073743      0.03802116095823529   0.03866216877078364     0.038755933645660316\n",
    "0.000212768845483     0.000212455621445     0.000212506750095        0.000212098351969     0.000212805240735       0.000212942963834\n",
    "----------\n"
   ]
  },
  {
   "cell_type": "code",
   "execution_count": null,
   "metadata": {},
   "outputs": [],
   "source": [
    "# 验证置信区间\n",
    "d1 = 0.00991859750727568\n",
    "eps1 = 0.000070439199795 \n",
    "d2 = 0.01011431937186198\n",
    "eps2 = 0.000072881065431\n",
    "print(d1 + eps1) #大\n",
    "print(d2 - eps2) #小"
   ]
  },
  {
   "cell_type": "code",
   "execution_count": null,
   "metadata": {},
   "outputs": [],
   "source": [
    "# x1 = X_train[0]\n",
    "# x1 = np.expand_dims(x1, axis=0)\n",
    "# t1 = T_train[0]\n",
    "# print(x1)\n",
    "# print(t1)\n",
    "# [ 1.  0.  2. 13. 16.  4.  0.  0.  0.  0. 12. 12. 12. 15.  0.  0.  0.  0.\n",
    "#   5.  2.  7. 14.  0.  0.  0.  0.  0.  3. 15. 15.  7.  0.  0.  0.  0.  4.\n",
    "#  12. 12. 16.  3.  0.  0.  0.  0.  0.  0. 15.  7.  0.  0.  3. 16.  8.  9.\n",
    "#  16.  6.  0.  0.  1. 11. 12. 14.  9.  0.  0.]\n",
    "# [0. 0. 0. 1. 0. 0. 0. 0. 0. 0.]"
   ]
  },
  {
   "cell_type": "code",
   "execution_count": null,
   "metadata": {
    "scrolled": true
   },
   "outputs": [],
   "source": [
    "# Plot the minibatch, full training set, and validation costs\n",
    "minibatch_x_inds = np.linspace(0, nb_of_iterations, num=nb_of_iterations*nb_of_batches)\n",
    "iteration_x_inds = np.linspace(1, nb_of_iterations, num=nb_of_iterations)\n",
    "# Plot the cost over the iterations\n",
    "plt.plot(minibatch_x_inds, minibatch_costs, 'k-', linewidth=0.5, label='cost minibatches')\n",
    "plt.plot(iteration_x_inds, training_costs, 'r-', linewidth=2, label='cost full training set')\n",
    "plt.plot(iteration_x_inds, validation_costs, 'b-', linewidth=3, label='cost validation set')\n",
    "# Add labels to the plot\n",
    "plt.xlabel('iteration')\n",
    "plt.ylabel('$\\\\xi$', fontsize=15)\n",
    "plt.title('Decrease of cost over backprop iteration')\n",
    "plt.legend()\n",
    "x1,x2,y1,y2 = plt.axis()\n",
    "plt.axis((0,nb_of_iterations,0,2.5))\n",
    "plt.grid()\n",
    "plt.show()\n",
    "print(123)"
   ]
  },
  {
   "cell_type": "code",
   "execution_count": null,
   "metadata": {},
   "outputs": [],
   "source": [
    "# Get results of test data\n",
    "y_true = np.argmax(T_test, axis=1)  # Get the target outputs\n",
    "activations = forward_step(X_test, layers)  # Get activation of test samples\n",
    "y_pred = np.argmax(activations[-1], axis=1)  # Get the predictions made by the network\n",
    "test_accuracy = metrics.accuracy_score(y_true, y_pred)  # Test set accuracy\n",
    "print('The accuracy on the test set is {:.2f}'.format(test_accuracy))"
   ]
  },
  {
   "cell_type": "code",
   "execution_count": 18,
   "metadata": {},
   "outputs": [
    {
     "data": {
      "image/png": "[encoded data removed]",
      "text/plain": [
       "<matplotlib.figure.Figure at 0x7f75c37aae90>"
      ]
     },
     "metadata": {},
     "output_type": "display_data"
    }
   ],
   "source": [
    "# Show confusion table\n",
    "conf_matrix = metrics.confusion_matrix(y_true, y_pred, labels=None)  # Get confustion matrix\n",
    "# Plot the confusion table\n",
    "class_names = ['${:d}$'.format(x) for x in range(0, 10)]  # Digit class names\n",
    "fig = plt.figure()\n",
    "ax = fig.add_subplot(111)\n",
    "# Show class labels on each axis\n",
    "ax.xaxis.tick_top()\n",
    "major_ticks = range(0,10)\n",
    "minor_ticks = [x + 0.5 for x in range(0, 10)]\n",
    "ax.xaxis.set_ticks(major_ticks, minor=False)\n",
    "ax.yaxis.set_ticks(major_ticks, minor=False)\n",
    "ax.xaxis.set_ticks(minor_ticks, minor=True)\n",
    "ax.yaxis.set_ticks(minor_ticks, minor=True)\n",
    "ax.xaxis.set_ticklabels(class_names, minor=False, fontsize=15)\n",
    "ax.yaxis.set_ticklabels(class_names, minor=False, fontsize=15)\n",
    "# Set plot labels\n",
    "ax.yaxis.set_label_position(\"right\")\n",
    "ax.set_xlabel('Predicted label')\n",
    "ax.set_ylabel('True label')\n",
    "fig.suptitle('Confusion table', y=1.03, fontsize=15)\n",
    "# Show a grid to seperate digits\n",
    "ax.grid(b=True, which=u'minor')\n",
    "# Color each grid cell according to the number classes predicted\n",
    "ax.imshow(conf_matrix, interpolation='nearest', cmap='binary')\n",
    "# Show the number of samples in each cell\n",
    "for x in xrange(conf_matrix.shape[0]):\n",
    "    for y in xrange(conf_matrix.shape[1]):\n",
    "        color = 'w' if x == y else 'k'\n",
    "        ax.text(x, y, conf_matrix[y,x], ha=\"center\", va=\"center\", color=color)       \n",
    "plt.show()"
   ]
  },
  {
   "cell_type": "code",
   "execution_count": null,
   "metadata": {},
   "outputs": [],
   "source": []
  }
 ],
 "metadata": {
  "kernelspec": {
   "display_name": "Python 3",
   "language": "python",
   "name": "python3"
  },
  "language_info": {
   "codemirror_mode": {
    "name": "ipython",
    "version": 3
   },
   "file_extension": ".py",
   "mimetype": "text/x-python",
   "name": "python",
   "nbconvert_exporter": "python",
   "pygments_lexer": "ipython3",
   "version": "3.6.4"
  }
 },
 "nbformat": 4,
 "nbformat_minor": 2
}
